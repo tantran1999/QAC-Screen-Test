{
 "cells": [
  {
   "cell_type": "code",
   "execution_count": 9,
   "metadata": {},
   "outputs": [],
   "source": [
    "import matplotlib.pyplot as plt\n",
    "import numpy as np\n",
    "from qiskit import QuantumCircuit\n",
    "from qiskit.compiler import transpile\n",
    "from qiskit.quantum_info import Statevector\n",
    "from qiskit.primitives.sampler import Sampler\n",
    "from qiskit.visualization import plot_histogram\n",
    "from qiskit_aer import Aer"
   ]
  },
  {
   "cell_type": "code",
   "execution_count": 25,
   "metadata": {},
   "outputs": [],
   "source": [
    "n = 4\n",
    "grover_circuit = QuantumCircuit(n)"
   ]
  },
  {
   "cell_type": "code",
   "execution_count": 26,
   "metadata": {},
   "outputs": [
    {
     "data": {
      "text/html": [
       "<pre style=\"word-wrap: normal;white-space: pre;background: #fff0;line-height: 1.1;font-family: &quot;Courier New&quot;,Courier,monospace\">     ┌───┐\n",
       "q_0: ┤ H ├\n",
       "     ├───┤\n",
       "q_1: ┤ H ├\n",
       "     ├───┤\n",
       "q_2: ┤ H ├\n",
       "     ├───┤\n",
       "q_3: ┤ H ├\n",
       "     └───┘</pre>"
      ],
      "text/plain": [
       "     ┌───┐\n",
       "q_0: ┤ H ├\n",
       "     ├───┤\n",
       "q_1: ┤ H ├\n",
       "     ├───┤\n",
       "q_2: ┤ H ├\n",
       "     ├───┤\n",
       "q_3: ┤ H ├\n",
       "     └───┘"
      ]
     },
     "execution_count": 26,
     "metadata": {},
     "output_type": "execute_result"
    }
   ],
   "source": [
    "grover_circuit.h(list(range(n)))\n",
    "grover_circuit.draw()"
   ]
  },
  {
   "cell_type": "code",
   "execution_count": 27,
   "metadata": {},
   "outputs": [],
   "source": [
    "desired_item = \"1100\"\n",
    "oracle = QuantumCircuit(n)"
   ]
  },
  {
   "cell_type": "code",
   "execution_count": 28,
   "metadata": {},
   "outputs": [
    {
     "data": {
      "text/html": [
       "<pre style=\"word-wrap: normal;white-space: pre;background: #fff0;line-height: 1.1;font-family: &quot;Courier New&quot;,Courier,monospace\">     ┌───┐\n",
       "q_0: ┤ X ├\n",
       "     ├───┤\n",
       "q_1: ┤ X ├\n",
       "     └───┘\n",
       "q_2: ─────\n",
       "          \n",
       "q_3: ─────\n",
       "          </pre>"
      ],
      "text/plain": [
       "     ┌───┐\n",
       "q_0: ┤ X ├\n",
       "     ├───┤\n",
       "q_1: ┤ X ├\n",
       "     └───┘\n",
       "q_2: ─────\n",
       "          \n",
       "q_3: ─────\n",
       "          "
      ]
     },
     "execution_count": 28,
     "metadata": {},
     "output_type": "execute_result"
    }
   ],
   "source": [
    "for qubit in range(n):\n",
    "    if desired_item[qubit] == \"1\":\n",
    "        oracle.x(qubit)\n",
    "\n",
    "oracle.draw()"
   ]
  },
  {
   "cell_type": "code",
   "execution_count": 29,
   "metadata": {},
   "outputs": [
    {
     "data": {
      "text/html": [
       "<pre style=\"word-wrap: normal;white-space: pre;background: #fff0;line-height: 1.1;font-family: &quot;Courier New&quot;,Courier,monospace\">     ┌───┐┌──────────────┐\n",
       "q_0: ┤ H ├┤0             ├\n",
       "     ├───┤│              │\n",
       "q_1: ┤ H ├┤1             ├\n",
       "     ├───┤│  circuit-185 │\n",
       "q_2: ┤ H ├┤2             ├\n",
       "     ├───┤│              │\n",
       "q_3: ┤ H ├┤3             ├\n",
       "     └───┘└──────────────┘</pre>"
      ],
      "text/plain": [
       "     ┌───┐┌──────────────┐\n",
       "q_0: ┤ H ├┤0             ├\n",
       "     ├───┤│              │\n",
       "q_1: ┤ H ├┤1             ├\n",
       "     ├───┤│  circuit-185 │\n",
       "q_2: ┤ H ├┤2             ├\n",
       "     ├───┤│              │\n",
       "q_3: ┤ H ├┤3             ├\n",
       "     └───┘└──────────────┘"
      ]
     },
     "execution_count": 29,
     "metadata": {},
     "output_type": "execute_result"
    }
   ],
   "source": [
    "grover_circuit.append(oracle.to_gate(), range(n))\n",
    "grover_circuit.draw()"
   ]
  },
  {
   "cell_type": "code",
   "execution_count": 30,
   "metadata": {},
   "outputs": [
    {
     "data": {
      "text/html": [
       "<pre style=\"word-wrap: normal;white-space: pre;background: #fff0;line-height: 1.1;font-family: &quot;Courier New&quot;,Courier,monospace\">     ┌───┐┌──────────────┐┌───┐┌───┐   ┌───┐\n",
       "q_0: ┤ H ├┤0             ├┤ H ├┤ Z ├─■─┤ H ├\n",
       "     ├───┤│              │├───┤├───┤ │ ├───┤\n",
       "q_1: ┤ H ├┤1             ├┤ H ├┤ Z ├─┼─┤ H ├\n",
       "     ├───┤│  circuit-185 │├───┤├───┤ │ ├───┤\n",
       "q_2: ┤ H ├┤2             ├┤ H ├┤ Z ├─┼─┤ H ├\n",
       "     ├───┤│              │├───┤├───┤ │ ├───┤\n",
       "q_3: ┤ H ├┤3             ├┤ H ├┤ Z ├─■─┤ H ├\n",
       "     └───┘└──────────────┘└───┘└───┘   └───┘</pre>"
      ],
      "text/plain": [
       "     ┌───┐┌──────────────┐┌───┐┌───┐   ┌───┐\n",
       "q_0: ┤ H ├┤0             ├┤ H ├┤ Z ├─■─┤ H ├\n",
       "     ├───┤│              │├───┤├───┤ │ ├───┤\n",
       "q_1: ┤ H ├┤1             ├┤ H ├┤ Z ├─┼─┤ H ├\n",
       "     ├───┤│  circuit-185 │├───┤├───┤ │ ├───┤\n",
       "q_2: ┤ H ├┤2             ├┤ H ├┤ Z ├─┼─┤ H ├\n",
       "     ├───┤│              │├───┤├───┤ │ ├───┤\n",
       "q_3: ┤ H ├┤3             ├┤ H ├┤ Z ├─■─┤ H ├\n",
       "     └───┘└──────────────┘└───┘└───┘   └───┘"
      ]
     },
     "execution_count": 30,
     "metadata": {},
     "output_type": "execute_result"
    }
   ],
   "source": [
    "grover_circuit.h(range(n))\n",
    "grover_circuit.z(range(n))\n",
    "grover_circuit.cz(0, n - 1)\n",
    "grover_circuit.h(range(n))\n",
    "\n",
    "grover_circuit.draw()"
   ]
  },
  {
   "cell_type": "code",
   "execution_count": 31,
   "metadata": {},
   "outputs": [
    {
     "data": {
      "text/html": [
       "<pre style=\"word-wrap: normal;white-space: pre;background: #fff0;line-height: 1.1;font-family: &quot;Courier New&quot;,Courier,monospace\">     ┌───┐┌──────────────┐┌───┐┌───┐   ┌───┐┌──────────────┐┌───┐┌───┐   ┌───┐»\n",
       "q_0: ┤ H ├┤0             ├┤ H ├┤ Z ├─■─┤ H ├┤0             ├┤ H ├┤ Z ├─■─┤ H ├»\n",
       "     ├───┤│              │├───┤├───┤ │ ├───┤│              │├───┤├───┤ │ ├───┤»\n",
       "q_1: ┤ H ├┤1             ├┤ H ├┤ Z ├─┼─┤ H ├┤1             ├┤ H ├┤ Z ├─┼─┤ H ├»\n",
       "     ├───┤│  circuit-185 │├───┤├───┤ │ ├───┤│  circuit-185 │├───┤├───┤ │ ├───┤»\n",
       "q_2: ┤ H ├┤2             ├┤ H ├┤ Z ├─┼─┤ H ├┤2             ├┤ H ├┤ Z ├─┼─┤ H ├»\n",
       "     ├───┤│              │├───┤├───┤ │ ├───┤│              │├───┤├───┤ │ ├───┤»\n",
       "q_3: ┤ H ├┤3             ├┤ H ├┤ Z ├─■─┤ H ├┤3             ├┤ H ├┤ Z ├─■─┤ H ├»\n",
       "     └───┘└──────────────┘└───┘└───┘   └───┘└──────────────┘└───┘└───┘   └───┘»\n",
       "«     ┌──────────────┐┌───┐┌───┐   ┌───┐\n",
       "«q_0: ┤0             ├┤ H ├┤ Z ├─■─┤ H ├\n",
       "«     │              │├───┤├───┤ │ ├───┤\n",
       "«q_1: ┤1             ├┤ H ├┤ Z ├─┼─┤ H ├\n",
       "«     │  circuit-185 │├───┤├───┤ │ ├───┤\n",
       "«q_2: ┤2             ├┤ H ├┤ Z ├─┼─┤ H ├\n",
       "«     │              │├───┤├───┤ │ ├───┤\n",
       "«q_3: ┤3             ├┤ H ├┤ Z ├─■─┤ H ├\n",
       "«     └──────────────┘└───┘└───┘   └───┘</pre>"
      ],
      "text/plain": [
       "     ┌───┐┌──────────────┐┌───┐┌───┐   ┌───┐┌──────────────┐┌───┐┌───┐   ┌───┐»\n",
       "q_0: ┤ H ├┤0             ├┤ H ├┤ Z ├─■─┤ H ├┤0             ├┤ H ├┤ Z ├─■─┤ H ├»\n",
       "     ├───┤│              │├───┤├───┤ │ ├───┤│              │├───┤├───┤ │ ├───┤»\n",
       "q_1: ┤ H ├┤1             ├┤ H ├┤ Z ├─┼─┤ H ├┤1             ├┤ H ├┤ Z ├─┼─┤ H ├»\n",
       "     ├───┤│  circuit-185 │├───┤├───┤ │ ├───┤│  circuit-185 │├───┤├───┤ │ ├───┤»\n",
       "q_2: ┤ H ├┤2             ├┤ H ├┤ Z ├─┼─┤ H ├┤2             ├┤ H ├┤ Z ├─┼─┤ H ├»\n",
       "     ├───┤│              │├───┤├───┤ │ ├───┤│              │├───┤├───┤ │ ├───┤»\n",
       "q_3: ┤ H ├┤3             ├┤ H ├┤ Z ├─■─┤ H ├┤3             ├┤ H ├┤ Z ├─■─┤ H ├»\n",
       "     └───┘└──────────────┘└───┘└───┘   └───┘└──────────────┘└───┘└───┘   └───┘»\n",
       "«     ┌──────────────┐┌───┐┌───┐   ┌───┐\n",
       "«q_0: ┤0             ├┤ H ├┤ Z ├─■─┤ H ├\n",
       "«     │              │├───┤├───┤ │ ├───┤\n",
       "«q_1: ┤1             ├┤ H ├┤ Z ├─┼─┤ H ├\n",
       "«     │  circuit-185 │├───┤├───┤ │ ├───┤\n",
       "«q_2: ┤2             ├┤ H ├┤ Z ├─┼─┤ H ├\n",
       "«     │              │├───┤├───┤ │ ├───┤\n",
       "«q_3: ┤3             ├┤ H ├┤ Z ├─■─┤ H ├\n",
       "«     └──────────────┘└───┘└───┘   └───┘"
      ]
     },
     "execution_count": 31,
     "metadata": {},
     "output_type": "execute_result"
    }
   ],
   "source": [
    "num_iters = int((np.pi/4) * np.sqrt(2**n))\n",
    "for _ in range(num_iters):\n",
    "    grover_circuit.append(oracle.to_gate(), range(n))\n",
    "    grover_circuit.h(range(n))\n",
    "    grover_circuit.x(range(n))\n",
    "    grover_circuit.h(n - 1)\n",
    "    grover_circuit\n",
    "    grover_circuit.z(range(n))\n",
    "    grover_circuit.cz(0, n - 1)\n",
    "    grover_circuit.h(range(n))"
   ]
  },
  {
   "cell_type": "code",
   "execution_count": 38,
   "metadata": {},
   "outputs": [
    {
     "data": {
      "text/html": [
       "<pre style=\"word-wrap: normal;white-space: pre;background: #fff0;line-height: 1.1;font-family: &quot;Courier New&quot;,Courier,monospace\">     ┌───┐┌──────────────┐┌───┐┌───┐   ┌───┐┌──────────────┐┌───┐┌───┐   ┌───┐»\n",
       "q_0: ┤ H ├┤0             ├┤ H ├┤ Z ├─■─┤ H ├┤0             ├┤ H ├┤ Z ├─■─┤ H ├»\n",
       "     ├───┤│              │├───┤├───┤ │ ├───┤│              │├───┤├───┤ │ ├───┤»\n",
       "q_1: ┤ H ├┤1             ├┤ H ├┤ Z ├─┼─┤ H ├┤1             ├┤ H ├┤ Z ├─┼─┤ H ├»\n",
       "     ├───┤│  circuit-185 │├───┤├───┤ │ ├───┤│  circuit-185 │├───┤├───┤ │ ├───┤»\n",
       "q_2: ┤ H ├┤2             ├┤ H ├┤ Z ├─┼─┤ H ├┤2             ├┤ H ├┤ Z ├─┼─┤ H ├»\n",
       "     ├───┤│              │├───┤├───┤ │ ├───┤│              │├───┤├───┤ │ ├───┤»\n",
       "q_3: ┤ H ├┤3             ├┤ H ├┤ Z ├─■─┤ H ├┤3             ├┤ H ├┤ Z ├─■─┤ H ├»\n",
       "     └───┘└──────────────┘└───┘└───┘   └───┘└──────────────┘└───┘└───┘   └───┘»\n",
       "«     ┌──────────────┐┌───┐┌───┐   ┌───┐\n",
       "«q_0: ┤0             ├┤ H ├┤ Z ├─■─┤ H ├\n",
       "«     │              │├───┤├───┤ │ ├───┤\n",
       "«q_1: ┤1             ├┤ H ├┤ Z ├─┼─┤ H ├\n",
       "«     │  circuit-185 │├───┤├───┤ │ ├───┤\n",
       "«q_2: ┤2             ├┤ H ├┤ Z ├─┼─┤ H ├\n",
       "«     │              │├───┤├───┤ │ ├───┤\n",
       "«q_3: ┤3             ├┤ H ├┤ Z ├─■─┤ H ├\n",
       "«     └──────────────┘└───┘└───┘   └───┘</pre>"
      ],
      "text/plain": [
       "     ┌───┐┌──────────────┐┌───┐┌───┐   ┌───┐┌──────────────┐┌───┐┌───┐   ┌───┐»\n",
       "q_0: ┤ H ├┤0             ├┤ H ├┤ Z ├─■─┤ H ├┤0             ├┤ H ├┤ Z ├─■─┤ H ├»\n",
       "     ├───┤│              │├───┤├───┤ │ ├───┤│              │├───┤├───┤ │ ├───┤»\n",
       "q_1: ┤ H ├┤1             ├┤ H ├┤ Z ├─┼─┤ H ├┤1             ├┤ H ├┤ Z ├─┼─┤ H ├»\n",
       "     ├───┤│  circuit-185 │├───┤├───┤ │ ├───┤│  circuit-185 │├───┤├───┤ │ ├───┤»\n",
       "q_2: ┤ H ├┤2             ├┤ H ├┤ Z ├─┼─┤ H ├┤2             ├┤ H ├┤ Z ├─┼─┤ H ├»\n",
       "     ├───┤│              │├───┤├───┤ │ ├───┤│              │├───┤├───┤ │ ├───┤»\n",
       "q_3: ┤ H ├┤3             ├┤ H ├┤ Z ├─■─┤ H ├┤3             ├┤ H ├┤ Z ├─■─┤ H ├»\n",
       "     └───┘└──────────────┘└───┘└───┘   └───┘└──────────────┘└───┘└───┘   └───┘»\n",
       "«     ┌──────────────┐┌───┐┌───┐   ┌───┐\n",
       "«q_0: ┤0             ├┤ H ├┤ Z ├─■─┤ H ├\n",
       "«     │              │├───┤├───┤ │ ├───┤\n",
       "«q_1: ┤1             ├┤ H ├┤ Z ├─┼─┤ H ├\n",
       "«     │  circuit-185 │├───┤├───┤ │ ├───┤\n",
       "«q_2: ┤2             ├┤ H ├┤ Z ├─┼─┤ H ├\n",
       "«     │              │├───┤├───┤ │ ├───┤\n",
       "«q_3: ┤3             ├┤ H ├┤ Z ├─■─┤ H ├\n",
       "«     └──────────────┘└───┘└───┘   └───┘"
      ]
     },
     "execution_count": 38,
     "metadata": {},
     "output_type": "execute_result"
    }
   ],
   "source": [
    "grover_circuit.draw()"
   ]
  },
  {
   "cell_type": "code",
   "execution_count": 36,
   "metadata": {},
   "outputs": [
    {
     "ename": "CircuitError",
     "evalue": "'Index 0 out of range for size 0.'",
     "output_type": "error",
     "traceback": [
      "\u001b[0;31m---------------------------------------------------------------------------\u001b[0m",
      "\u001b[0;31mIndexError\u001b[0m                                Traceback (most recent call last)",
      "File \u001b[0;32m~/Personal/quantum-bootcamp-2024/.venv/lib/python3.10/site-packages/qiskit/circuit/quantumcircuit.py:6751\u001b[0m, in \u001b[0;36m_bit_argument_conversion_scalar\u001b[0;34m(specifier, bit_sequence, bit_set, type_)\u001b[0m\n\u001b[1;32m   6750\u001b[0m \u001b[38;5;28;01mtry\u001b[39;00m:\n\u001b[0;32m-> 6751\u001b[0m     \u001b[38;5;28;01mreturn\u001b[39;00m \u001b[43mbit_sequence\u001b[49m\u001b[43m[\u001b[49m\u001b[43mspecifier\u001b[49m\u001b[43m]\u001b[49m\n\u001b[1;32m   6752\u001b[0m \u001b[38;5;28;01mexcept\u001b[39;00m \u001b[38;5;167;01mIndexError\u001b[39;00m \u001b[38;5;28;01mas\u001b[39;00m ex:\n",
      "\u001b[0;31mIndexError\u001b[0m: list index out of range",
      "\nThe above exception was the direct cause of the following exception:\n",
      "\u001b[0;31mCircuitError\u001b[0m                              Traceback (most recent call last)",
      "Cell \u001b[0;32mIn[36], line 1\u001b[0m\n\u001b[0;32m----> 1\u001b[0m \u001b[43mgrover_circuit\u001b[49m\u001b[38;5;241;43m.\u001b[39;49m\u001b[43mmeasure\u001b[49m\u001b[43m(\u001b[49m\u001b[38;5;28;43mrange\u001b[39;49m\u001b[43m(\u001b[49m\u001b[43mn\u001b[49m\u001b[43m)\u001b[49m\u001b[43m,\u001b[49m\u001b[43m \u001b[49m\u001b[38;5;28;43mrange\u001b[39;49m\u001b[43m(\u001b[49m\u001b[43mn\u001b[49m\u001b[43m)\u001b[49m\u001b[43m)\u001b[49m\n\u001b[1;32m      3\u001b[0m simulator \u001b[38;5;241m=\u001b[39m Aer\u001b[38;5;241m.\u001b[39mget_backend(\u001b[38;5;124m\"\u001b[39m\u001b[38;5;124mqasm_simulator\u001b[39m\u001b[38;5;124m\"\u001b[39m)\n\u001b[1;32m      4\u001b[0m job \u001b[38;5;241m=\u001b[39m transpile(grover_circuit, backend\u001b[38;5;241m=\u001b[39msimulator)\n",
      "File \u001b[0;32m~/Personal/quantum-bootcamp-2024/.venv/lib/python3.10/site-packages/qiskit/circuit/quantumcircuit.py:3823\u001b[0m, in \u001b[0;36mQuantumCircuit.measure\u001b[0;34m(self, qubit, cbit)\u001b[0m\n\u001b[1;32m   3749\u001b[0m \u001b[38;5;250m\u001b[39m\u001b[38;5;124mr\u001b[39m\u001b[38;5;124;03m\"\"\"Measure a quantum bit (``qubit``) in the Z basis into a classical bit (``cbit``).\u001b[39;00m\n\u001b[1;32m   3750\u001b[0m \n\u001b[1;32m   3751\u001b[0m \u001b[38;5;124;03mWhen a quantum state is measured, a qubit is projected in the computational (Pauli Z) basis\u001b[39;00m\n\u001b[0;32m   (...)\u001b[0m\n\u001b[1;32m   3819\u001b[0m \n\u001b[1;32m   3820\u001b[0m \u001b[38;5;124;03m\"\"\"\u001b[39;00m\n\u001b[1;32m   3821\u001b[0m \u001b[38;5;28;01mfrom\u001b[39;00m \u001b[38;5;21;01m.\u001b[39;00m\u001b[38;5;21;01mmeasure\u001b[39;00m \u001b[38;5;28;01mimport\u001b[39;00m Measure\n\u001b[0;32m-> 3823\u001b[0m \u001b[38;5;28;01mreturn\u001b[39;00m \u001b[38;5;28;43mself\u001b[39;49m\u001b[38;5;241;43m.\u001b[39;49m\u001b[43mappend\u001b[49m\u001b[43m(\u001b[49m\u001b[43mMeasure\u001b[49m\u001b[43m(\u001b[49m\u001b[43m)\u001b[49m\u001b[43m,\u001b[49m\u001b[43m \u001b[49m\u001b[43m[\u001b[49m\u001b[43mqubit\u001b[49m\u001b[43m]\u001b[49m\u001b[43m,\u001b[49m\u001b[43m \u001b[49m\u001b[43m[\u001b[49m\u001b[43mcbit\u001b[49m\u001b[43m]\u001b[49m\u001b[43m,\u001b[49m\u001b[43m \u001b[49m\u001b[43mcopy\u001b[49m\u001b[38;5;241;43m=\u001b[39;49m\u001b[38;5;28;43;01mFalse\u001b[39;49;00m\u001b[43m)\u001b[49m\n",
      "File \u001b[0;32m~/Personal/quantum-bootcamp-2024/.venv/lib/python3.10/site-packages/qiskit/circuit/quantumcircuit.py:2387\u001b[0m, in \u001b[0;36mQuantumCircuit.append\u001b[0;34m(self, instruction, qargs, cargs, copy)\u001b[0m\n\u001b[1;32m   2381\u001b[0m         \u001b[38;5;28;01mraise\u001b[39;00m CircuitError(\n\u001b[1;32m   2382\u001b[0m             \u001b[38;5;124mf\u001b[39m\u001b[38;5;124m\"\u001b[39m\u001b[38;5;124mControl-flow op attempts to capture \u001b[39m\u001b[38;5;124m'\u001b[39m\u001b[38;5;132;01m{\u001b[39;00mbad_captures\u001b[38;5;132;01m}\u001b[39;00m\u001b[38;5;124m'\u001b[39m\u001b[38;5;124m\"\u001b[39m\n\u001b[1;32m   2383\u001b[0m             \u001b[38;5;124m\"\u001b[39m\u001b[38;5;124m which are not in this circuit\u001b[39m\u001b[38;5;124m\"\u001b[39m\n\u001b[1;32m   2384\u001b[0m         )\n\u001b[1;32m   2386\u001b[0m expanded_qargs \u001b[38;5;241m=\u001b[39m [\u001b[38;5;28mself\u001b[39m\u001b[38;5;241m.\u001b[39mqbit_argument_conversion(qarg) \u001b[38;5;28;01mfor\u001b[39;00m qarg \u001b[38;5;129;01min\u001b[39;00m qargs \u001b[38;5;129;01mor\u001b[39;00m []]\n\u001b[0;32m-> 2387\u001b[0m expanded_cargs \u001b[38;5;241m=\u001b[39m [\u001b[38;5;28mself\u001b[39m\u001b[38;5;241m.\u001b[39mcbit_argument_conversion(carg) \u001b[38;5;28;01mfor\u001b[39;00m carg \u001b[38;5;129;01min\u001b[39;00m cargs \u001b[38;5;129;01mor\u001b[39;00m []]\n\u001b[1;32m   2389\u001b[0m instructions \u001b[38;5;241m=\u001b[39m InstructionSet(resource_requester\u001b[38;5;241m=\u001b[39mcircuit_scope\u001b[38;5;241m.\u001b[39mresolve_classical_resource)\n\u001b[1;32m   2390\u001b[0m \u001b[38;5;66;03m# For Operations that are non-Instructions, we use the Instruction's default method\u001b[39;00m\n",
      "File \u001b[0;32m~/Personal/quantum-bootcamp-2024/.venv/lib/python3.10/site-packages/qiskit/circuit/quantumcircuit.py:2387\u001b[0m, in \u001b[0;36m<listcomp>\u001b[0;34m(.0)\u001b[0m\n\u001b[1;32m   2381\u001b[0m         \u001b[38;5;28;01mraise\u001b[39;00m CircuitError(\n\u001b[1;32m   2382\u001b[0m             \u001b[38;5;124mf\u001b[39m\u001b[38;5;124m\"\u001b[39m\u001b[38;5;124mControl-flow op attempts to capture \u001b[39m\u001b[38;5;124m'\u001b[39m\u001b[38;5;132;01m{\u001b[39;00mbad_captures\u001b[38;5;132;01m}\u001b[39;00m\u001b[38;5;124m'\u001b[39m\u001b[38;5;124m\"\u001b[39m\n\u001b[1;32m   2383\u001b[0m             \u001b[38;5;124m\"\u001b[39m\u001b[38;5;124m which are not in this circuit\u001b[39m\u001b[38;5;124m\"\u001b[39m\n\u001b[1;32m   2384\u001b[0m         )\n\u001b[1;32m   2386\u001b[0m expanded_qargs \u001b[38;5;241m=\u001b[39m [\u001b[38;5;28mself\u001b[39m\u001b[38;5;241m.\u001b[39mqbit_argument_conversion(qarg) \u001b[38;5;28;01mfor\u001b[39;00m qarg \u001b[38;5;129;01min\u001b[39;00m qargs \u001b[38;5;129;01mor\u001b[39;00m []]\n\u001b[0;32m-> 2387\u001b[0m expanded_cargs \u001b[38;5;241m=\u001b[39m [\u001b[38;5;28;43mself\u001b[39;49m\u001b[38;5;241;43m.\u001b[39;49m\u001b[43mcbit_argument_conversion\u001b[49m\u001b[43m(\u001b[49m\u001b[43mcarg\u001b[49m\u001b[43m)\u001b[49m \u001b[38;5;28;01mfor\u001b[39;00m carg \u001b[38;5;129;01min\u001b[39;00m cargs \u001b[38;5;129;01mor\u001b[39;00m []]\n\u001b[1;32m   2389\u001b[0m instructions \u001b[38;5;241m=\u001b[39m InstructionSet(resource_requester\u001b[38;5;241m=\u001b[39mcircuit_scope\u001b[38;5;241m.\u001b[39mresolve_classical_resource)\n\u001b[1;32m   2390\u001b[0m \u001b[38;5;66;03m# For Operations that are non-Instructions, we use the Instruction's default method\u001b[39;00m\n",
      "File \u001b[0;32m~/Personal/quantum-bootcamp-2024/.venv/lib/python3.10/site-packages/qiskit/circuit/quantumcircuit.py:2295\u001b[0m, in \u001b[0;36mQuantumCircuit.cbit_argument_conversion\u001b[0;34m(self, clbit_representation)\u001b[0m\n\u001b[1;32m   2284\u001b[0m \u001b[38;5;28;01mdef\u001b[39;00m \u001b[38;5;21mcbit_argument_conversion\u001b[39m(\u001b[38;5;28mself\u001b[39m, clbit_representation: ClbitSpecifier) \u001b[38;5;241m-\u001b[39m\u001b[38;5;241m>\u001b[39m \u001b[38;5;28mlist\u001b[39m[Clbit]:\n\u001b[1;32m   2285\u001b[0m \u001b[38;5;250m    \u001b[39m\u001b[38;5;124;03m\"\"\"\u001b[39;00m\n\u001b[1;32m   2286\u001b[0m \u001b[38;5;124;03m    Converts several classical bit representations (such as indexes, range, etc.)\u001b[39;00m\n\u001b[1;32m   2287\u001b[0m \u001b[38;5;124;03m    into a list of classical bits.\u001b[39;00m\n\u001b[0;32m   (...)\u001b[0m\n\u001b[1;32m   2293\u001b[0m \u001b[38;5;124;03m        List(tuple): Where each tuple is a classical bit.\u001b[39;00m\n\u001b[1;32m   2294\u001b[0m \u001b[38;5;124;03m    \"\"\"\u001b[39;00m\n\u001b[0;32m-> 2295\u001b[0m     \u001b[38;5;28;01mreturn\u001b[39;00m \u001b[43m_bit_argument_conversion\u001b[49m\u001b[43m(\u001b[49m\n\u001b[1;32m   2296\u001b[0m \u001b[43m        \u001b[49m\u001b[43mclbit_representation\u001b[49m\u001b[43m,\u001b[49m\u001b[43m \u001b[49m\u001b[38;5;28;43mself\u001b[39;49m\u001b[38;5;241;43m.\u001b[39;49m\u001b[43mclbits\u001b[49m\u001b[43m,\u001b[49m\u001b[43m \u001b[49m\u001b[38;5;28;43mself\u001b[39;49m\u001b[38;5;241;43m.\u001b[39;49m\u001b[43m_clbit_indices\u001b[49m\u001b[43m,\u001b[49m\u001b[43m \u001b[49m\u001b[43mClbit\u001b[49m\n\u001b[1;32m   2297\u001b[0m \u001b[43m    \u001b[49m\u001b[43m)\u001b[49m\n",
      "File \u001b[0;32m~/Personal/quantum-bootcamp-2024/.venv/lib/python3.10/site-packages/qiskit/circuit/quantumcircuit.py:6731\u001b[0m, in \u001b[0;36m_bit_argument_conversion\u001b[0;34m(specifier, bit_sequence, bit_set, type_)\u001b[0m\n\u001b[1;32m   6729\u001b[0m     \u001b[38;5;28;01mreturn\u001b[39;00m bit_sequence[specifier]\n\u001b[1;32m   6730\u001b[0m \u001b[38;5;28;01mtry\u001b[39;00m:\n\u001b[0;32m-> 6731\u001b[0m     \u001b[38;5;28;01mreturn\u001b[39;00m [\n\u001b[1;32m   6732\u001b[0m         _bit_argument_conversion_scalar(index, bit_sequence, bit_set, type_)\n\u001b[1;32m   6733\u001b[0m         \u001b[38;5;28;01mfor\u001b[39;00m index \u001b[38;5;129;01min\u001b[39;00m specifier\n\u001b[1;32m   6734\u001b[0m     ]\n\u001b[1;32m   6735\u001b[0m \u001b[38;5;28;01mexcept\u001b[39;00m \u001b[38;5;167;01mTypeError\u001b[39;00m \u001b[38;5;28;01mas\u001b[39;00m ex:\n\u001b[1;32m   6736\u001b[0m     message \u001b[38;5;241m=\u001b[39m (\n\u001b[1;32m   6737\u001b[0m         \u001b[38;5;124mf\u001b[39m\u001b[38;5;124m\"\u001b[39m\u001b[38;5;124mIncorrect bit type: expected \u001b[39m\u001b[38;5;124m'\u001b[39m\u001b[38;5;132;01m{\u001b[39;00mtype_\u001b[38;5;241m.\u001b[39m\u001b[38;5;18m__name__\u001b[39m\u001b[38;5;132;01m}\u001b[39;00m\u001b[38;5;124m'\u001b[39m\u001b[38;5;124m but got \u001b[39m\u001b[38;5;124m'\u001b[39m\u001b[38;5;132;01m{\u001b[39;00m\u001b[38;5;28mtype\u001b[39m(specifier)\u001b[38;5;241m.\u001b[39m\u001b[38;5;18m__name__\u001b[39m\u001b[38;5;132;01m}\u001b[39;00m\u001b[38;5;124m'\u001b[39m\u001b[38;5;124m\"\u001b[39m\n\u001b[1;32m   6738\u001b[0m         \u001b[38;5;28;01mif\u001b[39;00m \u001b[38;5;28misinstance\u001b[39m(specifier, Bit)\n\u001b[1;32m   6739\u001b[0m         \u001b[38;5;28;01melse\u001b[39;00m \u001b[38;5;124mf\u001b[39m\u001b[38;5;124m\"\u001b[39m\u001b[38;5;124mInvalid bit index: \u001b[39m\u001b[38;5;124m'\u001b[39m\u001b[38;5;132;01m{\u001b[39;00mspecifier\u001b[38;5;132;01m}\u001b[39;00m\u001b[38;5;124m'\u001b[39m\u001b[38;5;124m of type \u001b[39m\u001b[38;5;124m'\u001b[39m\u001b[38;5;132;01m{\u001b[39;00m\u001b[38;5;28mtype\u001b[39m(specifier)\u001b[38;5;132;01m}\u001b[39;00m\u001b[38;5;124m'\u001b[39m\u001b[38;5;124m\"\u001b[39m\n\u001b[1;32m   6740\u001b[0m     )\n",
      "File \u001b[0;32m~/Personal/quantum-bootcamp-2024/.venv/lib/python3.10/site-packages/qiskit/circuit/quantumcircuit.py:6732\u001b[0m, in \u001b[0;36m<listcomp>\u001b[0;34m(.0)\u001b[0m\n\u001b[1;32m   6729\u001b[0m     \u001b[38;5;28;01mreturn\u001b[39;00m bit_sequence[specifier]\n\u001b[1;32m   6730\u001b[0m \u001b[38;5;28;01mtry\u001b[39;00m:\n\u001b[1;32m   6731\u001b[0m     \u001b[38;5;28;01mreturn\u001b[39;00m [\n\u001b[0;32m-> 6732\u001b[0m         \u001b[43m_bit_argument_conversion_scalar\u001b[49m\u001b[43m(\u001b[49m\u001b[43mindex\u001b[49m\u001b[43m,\u001b[49m\u001b[43m \u001b[49m\u001b[43mbit_sequence\u001b[49m\u001b[43m,\u001b[49m\u001b[43m \u001b[49m\u001b[43mbit_set\u001b[49m\u001b[43m,\u001b[49m\u001b[43m \u001b[49m\u001b[43mtype_\u001b[49m\u001b[43m)\u001b[49m\n\u001b[1;32m   6733\u001b[0m         \u001b[38;5;28;01mfor\u001b[39;00m index \u001b[38;5;129;01min\u001b[39;00m specifier\n\u001b[1;32m   6734\u001b[0m     ]\n\u001b[1;32m   6735\u001b[0m \u001b[38;5;28;01mexcept\u001b[39;00m \u001b[38;5;167;01mTypeError\u001b[39;00m \u001b[38;5;28;01mas\u001b[39;00m ex:\n\u001b[1;32m   6736\u001b[0m     message \u001b[38;5;241m=\u001b[39m (\n\u001b[1;32m   6737\u001b[0m         \u001b[38;5;124mf\u001b[39m\u001b[38;5;124m\"\u001b[39m\u001b[38;5;124mIncorrect bit type: expected \u001b[39m\u001b[38;5;124m'\u001b[39m\u001b[38;5;132;01m{\u001b[39;00mtype_\u001b[38;5;241m.\u001b[39m\u001b[38;5;18m__name__\u001b[39m\u001b[38;5;132;01m}\u001b[39;00m\u001b[38;5;124m'\u001b[39m\u001b[38;5;124m but got \u001b[39m\u001b[38;5;124m'\u001b[39m\u001b[38;5;132;01m{\u001b[39;00m\u001b[38;5;28mtype\u001b[39m(specifier)\u001b[38;5;241m.\u001b[39m\u001b[38;5;18m__name__\u001b[39m\u001b[38;5;132;01m}\u001b[39;00m\u001b[38;5;124m'\u001b[39m\u001b[38;5;124m\"\u001b[39m\n\u001b[1;32m   6738\u001b[0m         \u001b[38;5;28;01mif\u001b[39;00m \u001b[38;5;28misinstance\u001b[39m(specifier, Bit)\n\u001b[1;32m   6739\u001b[0m         \u001b[38;5;28;01melse\u001b[39;00m \u001b[38;5;124mf\u001b[39m\u001b[38;5;124m\"\u001b[39m\u001b[38;5;124mInvalid bit index: \u001b[39m\u001b[38;5;124m'\u001b[39m\u001b[38;5;132;01m{\u001b[39;00mspecifier\u001b[38;5;132;01m}\u001b[39;00m\u001b[38;5;124m'\u001b[39m\u001b[38;5;124m of type \u001b[39m\u001b[38;5;124m'\u001b[39m\u001b[38;5;132;01m{\u001b[39;00m\u001b[38;5;28mtype\u001b[39m(specifier)\u001b[38;5;132;01m}\u001b[39;00m\u001b[38;5;124m'\u001b[39m\u001b[38;5;124m\"\u001b[39m\n\u001b[1;32m   6740\u001b[0m     )\n",
      "File \u001b[0;32m~/Personal/quantum-bootcamp-2024/.venv/lib/python3.10/site-packages/qiskit/circuit/quantumcircuit.py:6753\u001b[0m, in \u001b[0;36m_bit_argument_conversion_scalar\u001b[0;34m(specifier, bit_sequence, bit_set, type_)\u001b[0m\n\u001b[1;32m   6751\u001b[0m         \u001b[38;5;28;01mreturn\u001b[39;00m bit_sequence[specifier]\n\u001b[1;32m   6752\u001b[0m     \u001b[38;5;28;01mexcept\u001b[39;00m \u001b[38;5;167;01mIndexError\u001b[39;00m \u001b[38;5;28;01mas\u001b[39;00m ex:\n\u001b[0;32m-> 6753\u001b[0m         \u001b[38;5;28;01mraise\u001b[39;00m CircuitError(\n\u001b[1;32m   6754\u001b[0m             \u001b[38;5;124mf\u001b[39m\u001b[38;5;124m\"\u001b[39m\u001b[38;5;124mIndex \u001b[39m\u001b[38;5;132;01m{\u001b[39;00mspecifier\u001b[38;5;132;01m}\u001b[39;00m\u001b[38;5;124m out of range for size \u001b[39m\u001b[38;5;132;01m{\u001b[39;00m\u001b[38;5;28mlen\u001b[39m(bit_sequence)\u001b[38;5;132;01m}\u001b[39;00m\u001b[38;5;124m.\u001b[39m\u001b[38;5;124m\"\u001b[39m\n\u001b[1;32m   6755\u001b[0m         ) \u001b[38;5;28;01mfrom\u001b[39;00m \u001b[38;5;21;01mex\u001b[39;00m\n\u001b[1;32m   6756\u001b[0m message \u001b[38;5;241m=\u001b[39m (\n\u001b[1;32m   6757\u001b[0m     \u001b[38;5;124mf\u001b[39m\u001b[38;5;124m\"\u001b[39m\u001b[38;5;124mIncorrect bit type: expected \u001b[39m\u001b[38;5;124m'\u001b[39m\u001b[38;5;132;01m{\u001b[39;00mtype_\u001b[38;5;241m.\u001b[39m\u001b[38;5;18m__name__\u001b[39m\u001b[38;5;132;01m}\u001b[39;00m\u001b[38;5;124m'\u001b[39m\u001b[38;5;124m but got \u001b[39m\u001b[38;5;124m'\u001b[39m\u001b[38;5;132;01m{\u001b[39;00m\u001b[38;5;28mtype\u001b[39m(specifier)\u001b[38;5;241m.\u001b[39m\u001b[38;5;18m__name__\u001b[39m\u001b[38;5;132;01m}\u001b[39;00m\u001b[38;5;124m'\u001b[39m\u001b[38;5;124m\"\u001b[39m\n\u001b[1;32m   6758\u001b[0m     \u001b[38;5;28;01mif\u001b[39;00m \u001b[38;5;28misinstance\u001b[39m(specifier, Bit)\n\u001b[1;32m   6759\u001b[0m     \u001b[38;5;28;01melse\u001b[39;00m \u001b[38;5;124mf\u001b[39m\u001b[38;5;124m\"\u001b[39m\u001b[38;5;124mInvalid bit index: \u001b[39m\u001b[38;5;124m'\u001b[39m\u001b[38;5;132;01m{\u001b[39;00mspecifier\u001b[38;5;132;01m}\u001b[39;00m\u001b[38;5;124m'\u001b[39m\u001b[38;5;124m of type \u001b[39m\u001b[38;5;124m'\u001b[39m\u001b[38;5;132;01m{\u001b[39;00m\u001b[38;5;28mtype\u001b[39m(specifier)\u001b[38;5;132;01m}\u001b[39;00m\u001b[38;5;124m'\u001b[39m\u001b[38;5;124m\"\u001b[39m\n\u001b[1;32m   6760\u001b[0m )\n\u001b[1;32m   6761\u001b[0m \u001b[38;5;28;01mraise\u001b[39;00m CircuitError(message)\n",
      "\u001b[0;31mCircuitError\u001b[0m: 'Index 0 out of range for size 0.'"
     ]
    }
   ],
   "source": [
    "grover_circuit.measure(range(n), range(n))\n",
    "\n",
    "simulator = Aer.get_backend(\"qasm_simulator\")\n",
    "job = transpile(grover_circuit, backend=simulator)\n"
   ]
  },
  {
   "cell_type": "code",
   "execution_count": null,
   "metadata": {},
   "outputs": [],
   "source": []
  }
 ],
 "metadata": {
  "kernelspec": {
   "display_name": ".venv",
   "language": "python",
   "name": "python3"
  },
  "language_info": {
   "codemirror_mode": {
    "name": "ipython",
    "version": 3
   },
   "file_extension": ".py",
   "mimetype": "text/x-python",
   "name": "python",
   "nbconvert_exporter": "python",
   "pygments_lexer": "ipython3",
   "version": "3.10.14"
  }
 },
 "nbformat": 4,
 "nbformat_minor": 2
}
